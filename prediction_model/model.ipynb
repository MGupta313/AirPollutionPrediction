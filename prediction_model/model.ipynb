{
 "cells": [
  {
   "cell_type": "code",
   "execution_count": 1,
   "metadata": {},
   "outputs": [
    {
     "name": "stderr",
     "output_type": "stream",
     "text": [
      "/usr/local/lib/python3.7/site-packages/ipykernel_launcher.py:3: FutureWarning: The pandas.datetime class is deprecated and will be removed from pandas in a future version. Import from datetime module instead.\n",
      "  This is separate from the ipykernel package so we can avoid doing imports until\n"
     ]
    }
   ],
   "source": [
    "import numpy as np\n",
    "import pandas as pd\n",
    "from pandas import datetime\n",
    "import matplotlib.pyplot as plt\n",
    "from sklearn import metrics\n",
    "from sklearn.preprocessing import MinMaxScaler\n",
    "import operator\n",
    "from sklearn.linear_model import LinearRegression\n",
    "from sklearn.metrics import mean_squared_error, r2_score\n",
    "from sklearn.preprocessing import PolynomialFeatures\n"
   ]
  },
  {
   "cell_type": "code",
   "execution_count": 2,
   "metadata": {},
   "outputs": [],
   "source": [
    "#Function to calculate so2 individual pollutant index(si)\n",
    "def calculate_si(so2):\n",
    "    si=0\n",
    "    if (so2<=40):\n",
    "     si= so2*(50/40)\n",
    "    if (so2>40 and so2<=80):\n",
    "     si= 50+(so2-40)*(50/40)\n",
    "    if (so2>80 and so2<=380):\n",
    "     si= 100+(so2-80)*(100/300)\n",
    "    if (so2>380 and so2<=800):\n",
    "     si= 200+(so2-380)*(100/800)\n",
    "    if (so2>800 and so2<=1600):\n",
    "     si= 300+(so2-800)*(100/800)\n",
    "    if (so2>1600):\n",
    "     si= 400+(so2-1600)*(100/800)\n",
    "    return si\n",
    "\n",
    "#Function to calculate no2 individual pollutant index(ni)\n",
    "def calculate_ni(no2):\n",
    "    ni=0\n",
    "    if(no2<=40):\n",
    "     ni= no2*50/40\n",
    "    elif(no2>40 and no2<=80):\n",
    "     ni= 50+(no2-14)*(50/40)\n",
    "    elif(no2>80 and no2<=180):\n",
    "     ni= 100+(no2-80)*(100/100)\n",
    "    elif(no2>180 and no2<=280):\n",
    "     ni= 200+(no2-180)*(100/100)\n",
    "    elif(no2>280 and no2<=400):\n",
    "     ni= 300+(no2-280)*(100/120)\n",
    "    else:\n",
    "     ni= 400+(no2-400)*(100/120)\n",
    "    return ni\n",
    "\n",
    "#Function to calculate no2 individual pollutant index(rpi)\n",
    "def calculate_(rspm):\n",
    "    rpi=0\n",
    "    if(rpi<=30):\n",
    "     rpi=rpi*50/30\n",
    "    elif(rpi>30 and rpi<=60):\n",
    "     rpi=50+(rpi-30)*50/30\n",
    "    elif(rpi>60 and rpi<=90):\n",
    "     rpi=100+(rpi-60)*100/30\n",
    "    elif(rpi>90 and rpi<=120):\n",
    "     rpi=200+(rpi-90)*100/30\n",
    "    elif(rpi>120 and rpi<=250):\n",
    "     rpi=300+(rpi-120)*(100/130)\n",
    "    else:\n",
    "     rpi=400+(rpi-250)*(100/130)\n",
    "    return rpi\n",
    "\n",
    "#Function to calculate no2 individual pollutant index(spi)\n",
    "def calculate_spi(spm):\n",
    "    spi=0\n",
    "    if(spm<=50):\n",
    "     spi=spm\n",
    "    if(spm<50 and spm<=100):\n",
    "     spi=spm\n",
    "    elif(spm>100 and spm<=250):\n",
    "     spi= 100+(spm-100)*(100/150)\n",
    "    elif(spm>250 and spm<=350):\n",
    "     spi=200+(spm-250)\n",
    "    elif(spm>350 and spm<=450):\n",
    "     spi=300+(spm-350)*(100/80)\n",
    "    else:\n",
    "     spi=400+(spm-430)*(100/80)\n",
    "    return spi\n",
    "\n",
    "# function to calculate the air quality index (AQI) of every data value as per Indian govt standards\n",
    "def calculate_aqi(si,ni,spi,rpi):\n",
    "    aqi=0\n",
    "    if(si>ni and si>spi and si>rpi):\n",
    "     aqi=si\n",
    "    if(spi>si and spi>ni and spi>rpi):\n",
    "     aqi=spi\n",
    "    if(ni>si and ni>spi and ni>rpi):\n",
    "     aqi=ni\n",
    "    if(rpi>si and rpi>ni and rpi>spi):\n",
    "     aqi=rpi\n",
    "    return aqi\n"
   ]
  },
  {
   "cell_type": "code",
   "execution_count": 3,
   "metadata": {},
   "outputs": [],
   "source": [
    "# def gradient_descent(x, y, theta, iterations, alpha):\n",
    "#     m = y.size # No. of data points\n",
    "#     past_costs = []\n",
    "#     past_thetas = [theta]\n",
    "#     for i in range(iterations):\n",
    "#         prediction = np.dot(x, theta)\n",
    "#         error = prediction - y\n",
    "#         cost = 1/(2*m) * np.dot(error.T, error)\n",
    "#         past_costs.append(cost)\n",
    "#         theta = theta - (alpha * (1/m) * np.dot(x.T, error))\n",
    "#         past_thetas.append(theta)\n",
    "#     return past_thetas, past_costs\n",
    "\n",
    "# def rmse(y, y_pred):\n",
    "#     rmse = np.sqrt(sum(y - y_pred))\n",
    "#     return rmse\n",
    "\n",
    "# def get_predictions_helper(data_og, col_name):\n",
    "\n",
    "#     # do some preprocessing\n",
    "#     df = data_og[[col_name,'date']]\n",
    "#     df = df.set_index('date').resample('M')[col_name].mean()\n",
    "#     data = df.reset_index(level=0, inplace=False)\n",
    "#     data = data[np.isfinite(data[col_name])]\n",
    "#     data = data[data.date != '1970-01-31']\n",
    "#     data = data.reset_index(drop=True)\n",
    "\n",
    "#     # make year column\n",
    "#     data['year'] = data['date'].dt.year\n",
    "#     df = data[[col_name,'year']].groupby([\"year\"]).mean().reset_index().sort_values(by='year',ascending=False)\n",
    "#     df = df[np.isfinite(df[col_name])]\n",
    "\n",
    "#     # set up x and y vars for linear regression\n",
    "#     cols = ['year']\n",
    "#     y = df[col_name]\n",
    "#     x = df[cols]\n",
    "#     x = (x - x.mean()) / x.std()\n",
    "#     x = np.c_[np.ones(x.shape[0]), x]\n",
    "\n",
    "#     # hyper parameters\n",
    "#     alpha = 0.1\n",
    "#     iterations = 100\n",
    "#     theta = np.random.rand(2) #Picking random values to start with\n",
    "\n",
    "#     # perform SGD\n",
    "#     past_thetas, past_costs = gradient_descent(x, y, theta, iterations, alpha)\n",
    "#     theta = past_thetas[-1]\n",
    "#     y_pred = x.dot(theta)\n",
    "#     print(\"Gradient Descent: {:.2f}, {:.2f}\".format(theta[0], theta[1]))\n",
    "#     print(\"RMSE is\", np.sqrt(metrics.mean_squared_error(y,y_pred)))\n",
    "\n",
    "#     # get training cost curve\n",
    "#     plt.figure(figsize=(10, 10))\n",
    "#     plt.title('Linear Regression - ' + col_name)\n",
    "#     plt.xlabel('No. of iterations')\n",
    "#     plt.ylabel('Cost')\n",
    "#     plt.plot(past_costs)\n",
    "#     plt.savefig('Linear Regression Training - ' + col_name)\n",
    "#     plt.clf()\n",
    "\n",
    "#     # print actual vs predicted\n",
    "#     dt = pd.DataFrame({'Actual': y, 'Predicted': y_pred})\n",
    "#     x = pd.concat([df, dt], axis=1)\n",
    "#     x_axis = x.year\n",
    "#     y_axis = x.Actual\n",
    "#     y1_axis = x.Predicted\n",
    "#     plt.plot(x_axis, y_axis)\n",
    "#     plt.plot(x_axis, y1_axis)\n",
    "#     plt.title(\"Actual vs Predicted \" + col_name,fontsize=20)\n",
    "#     plt.legend([\"actual \",\"predicted\"])\n",
    "#     plt.xlabel(\"Year\", fontsize=20)\n",
    "#     plt.ylabel(col_name, fontsize=20)\n",
    "#     plt.tick_params(labelsize=20)\n",
    "#     plt.savefig('Actual vs Predicted ' + col_name)\n",
    "#     plt.clf()\n",
    "\n",
    "#     # make future predictions\n",
    "#     data=[[-1,2016], [-1, 2017], [-1, 2018], [-1, 2019], [-1, 2020], [-1,2021], [-1,2022], [-1,2023], [-1,2024], [-1,2025], [-1,2026], [-1,2027], [-1,2028], [-1,2029], [-1,2030]]\n",
    "#     scaler = MinMaxScaler(feature_range=(-1,1)) # normalization\n",
    "#     scaler.fit(data)\n",
    "#     x = scaler.transform(data)\n",
    "#     print(\"Predictions\", - (x.dot(theta)))"
   ]
  },
  {
   "cell_type": "code",
   "execution_count": 4,
   "metadata": {},
   "outputs": [
    {
     "name": "stderr",
     "output_type": "stream",
     "text": [
      "/usr/local/lib/python3.7/site-packages/IPython/core/interactiveshell.py:3063: DtypeWarning: Columns (0) have mixed types.Specify dtype option on import or set low_memory=False.\n",
      "  interactivity=interactivity, compiler=compiler, result=result)\n"
     ]
    }
   ],
   "source": [
    "# read data\n",
    "data = pd.read_csv('../data/pollution-data.csv', encoding=\"ISO-8859-1\")\n",
    "data.fillna(0, inplace=True)\n",
    "\n",
    "# create new columns for pollutant indexes and AQI\n",
    "data['ni'] = data['no2'].apply(calculate_ni)\n",
    "data['spi'] = data['spm'].apply(calculate_spi)\n",
    "data['si'] = data['so2'].apply(calculate_si)\n",
    "data['rpi'] = data['rspm'].apply(calculate_si)\n",
    "data['AQI'] = data.apply(lambda x:calculate_aqi(x['si'],x['ni'],x['spi'],x['rpi']),axis=1)\n",
    "\n",
    "data['date'] = pd.to_datetime(data['date'],format='%Y-%m-%d') # date parse\n",
    "data['year'] = data['date'].dt.year # year\n",
    "data['year'] = data['year'].fillna(0.0).astype(int)\n",
    "data_og = data[(data['year']>0)]\n"
   ]
  },
  {
   "cell_type": "code",
   "execution_count": 9,
   "metadata": {},
   "outputs": [
    {
     "name": "stdout",
     "output_type": "stream",
     "text": [
      "Gradient Descent: 121.61, 3.85\n",
      "RMSE is 44.24352485267687\n",
      "Predictions [125.4607319  124.91085868 124.36098545 123.81111223 123.261239\n",
      " 122.71136578 122.16149256 121.61161933 121.06174611 120.51187288\n",
      " 119.96199966 119.41212643 118.86225321 118.31237999 117.76250676]\n"
     ]
    },
    {
     "data": {
      "text/plain": [
       "<Figure size 720x720 with 0 Axes>"
      ]
     },
     "metadata": {},
     "output_type": "display_data"
    }
   ],
   "source": [
    "# linear regression \n",
    "for state in data_og.state.unique():\n",
    "    data = data_og[(data_og['state'] == state)]\n",
    "    get_predictions_helper(data, 'AQI')\n",
    "    get_predictions_helper(data, 'no2')\n",
    "    get_predictions_helper(data, 'spm')\n",
    "    get_predictions_helper(data, 'so2')\n",
    "    get_predictions_helper(data, 'rspm')"
   ]
  },
  {
   "cell_type": "code",
   "execution_count": 8,
   "metadata": {},
   "outputs": [],
   "source": [
    "def fit(x, y, degree):\n",
    "    polynomial_features = PolynomialFeatures(degree=degree)\n",
    "    x_poly = polynomial_features.fit_transform(x)\n",
    "    model = LinearRegression()\n",
    "    model.fit(x_poly, y)\n",
    "    y_poly_pred = model.predict(x_poly)\n",
    "    return x_poly, y_poly_pred, model\n",
    "    \n",
    "def predict(model, future_years, degree):\n",
    "    polynomial_features = PolynomialFeatures(degree=degree)\n",
    "    future_x = polynomial_features.fit_transform(future_years)\n",
    "    future_pred = model.predict(future_x)\n",
    "    return future_x, future_pred\n",
    "\n",
    "# fit a polynomal regression model with degree 1 (linear) and degree 2 (quadratic)\n",
    "def fit_polynomial(data_og, state):\n",
    "    # do some preprocessing\n",
    "    col_name = 'AQI'\n",
    "    df = data_og[[col_name,'date']]\n",
    "    df = df.set_index('date').resample('M')[col_name].mean()\n",
    "    data = df.reset_index(level=0, inplace=False)\n",
    "    data = data[np.isfinite(data[col_name])]\n",
    "    data = data[data.date != '1970-01-31']\n",
    "    data = data.reset_index(drop=True)\n",
    "\n",
    "    # make year column\n",
    "    data['year'] = data['date'].dt.year\n",
    "    df = data[[col_name,'year']].groupby([\"year\"]).mean().reset_index().sort_values(by='year',ascending=False)\n",
    "    df = df[np.isfinite(df[col_name])]\n",
    "\n",
    "    # set up x and y vars for linear regression\n",
    "    cols = ['year']\n",
    "    y = df[col_name]\n",
    "    x = df[cols]\n",
    "    #   x = (x - x.mean()) / x.std()\n",
    "    x = x.to_numpy()\n",
    "    y = y.to_numpy()\n",
    "    y = y[:, np.newaxis]\n",
    "    \n",
    "    x_poly_1, y_poly_pred_1, model_1 = fit(x, y, degree=1)\n",
    "    x_poly_2, y_poly_pred_2, model_2 = fit(x, y, degree=2)\n",
    "   \n",
    "    #   rmse = np.sqrt(mean_squared_error(y,y_poly_pred))\n",
    "    #   r2 = r2_score(y,y_poly_pred)\n",
    "    #     print(\"RMSE Error:\", rmse)\n",
    "    #     print(\"R2 score:\", r2)\n",
    "\n",
    "    future_years = [year for year in range(2015, 2031)]\n",
    "    future_years = np.array(future_years)[:, np.newaxis]\n",
    "    future_x_1, future_pred_1 = predict(model_1, future_years, degree=1)\n",
    "    future_x_2, future_pred_2 = predict(model_2, future_years, degree=2)\n",
    "    \n",
    "    # sort the values of x before line plot\n",
    "    plt.scatter(x, y, s=10)\n",
    "    plt.scatter(future_years, (future_pred_1 + future_pred_2)/2, s=10)\n",
    "    sort_axis = operator.itemgetter(0)\n",
    "    sorted_zip = sorted(zip(x, (y_poly_pred_1 + y_poly_pred_2)/2), key=sort_axis)\n",
    "    x, y_poly_pred = zip(*sorted_zip)\n",
    "    plt.plot(x, y_poly_pred, color='g')\n",
    "    plt.plot(future_years, (future_pred_1 + future_pred_2)/2, color='orange')\n",
    "    plt.title(\"AQI Plot - \" + state)\n",
    "    plt.savefig(\"../data/plots/\" + state + \"_aqi\")\n",
    "    plt.clf()"
   ]
  },
  {
   "cell_type": "code",
   "execution_count": 154,
   "metadata": {},
   "outputs": [
    {
     "data": {
      "text/plain": [
       "<Figure size 432x288 with 0 Axes>"
      ]
     },
     "metadata": {},
     "output_type": "display_data"
    }
   ],
   "source": [
    "# final linear regression  for states\n",
    "for state in data_og.state.unique():\n",
    "    data = data_og[(data_og['state'] == state)]\n",
    "    fit_polynomial(data, state)"
   ]
  },
  {
   "cell_type": "code",
   "execution_count": 9,
   "metadata": {},
   "outputs": [
    {
     "data": {
      "text/plain": [
       "<Figure size 432x288 with 0 Axes>"
      ]
     },
     "metadata": {},
     "output_type": "display_data"
    }
   ],
   "source": [
    "# final linear regression for cities \n",
    "for location in data_og.location.unique():\n",
    "    data = data_og[(data_og['location'] == location)]\n",
    "    fit_polynomial(data, location)"
   ]
  },
  {
   "cell_type": "code",
   "execution_count": null,
   "metadata": {},
   "outputs": [],
   "source": []
  }
 ],
 "metadata": {
  "kernelspec": {
   "display_name": "Python 3",
   "language": "python",
   "name": "python3"
  },
  "language_info": {
   "codemirror_mode": {
    "name": "ipython",
    "version": 3
   },
   "file_extension": ".py",
   "mimetype": "text/x-python",
   "name": "python",
   "nbconvert_exporter": "python",
   "pygments_lexer": "ipython3",
   "version": "3.7.4"
  }
 },
 "nbformat": 4,
 "nbformat_minor": 4
}
